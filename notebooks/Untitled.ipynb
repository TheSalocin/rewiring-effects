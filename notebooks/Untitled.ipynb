{
 "cells": [
  {
   "cell_type": "markdown",
   "id": "b61f1540",
   "metadata": {},
   "source": [
    "## Warning: This notebook is untested and running it may take a long time"
   ]
  },
  {
   "cell_type": "code",
   "execution_count": 10,
   "id": "ca1aa147",
   "metadata": {},
   "outputs": [],
   "source": [
    "import sys\n",
    "#Change to own path\n",
    "sys.path.insert(0, \"/home/npatzlaff/Documents/rewiring-effects/\")\n",
    "from funcs.base import *\n",
    "from tqdm import tqdm\n",
    "import pickle\n",
    "\n",
    "#for sbi\n",
    "import torch\n",
    "import sbi\n",
    "from sbi.inference.base import infer\n",
    "\n",
    "#for plotting\n",
    "import matplotlib.pyplot as plt\n",
    "import seaborn as sns"
   ]
  },
  {
   "cell_type": "code",
   "execution_count": null,
   "id": "2c34eb62",
   "metadata": {},
   "outputs": [],
   "source": [
    "#Create prior\n",
    "\n",
    "labels_params = [\"EI_ratio\", \"mi_e\", \"mi_i\", \"E_H\", \"E_I\"]\n",
    "prior_min = [0.01, 0, 0, 0, 0]\n",
    "prior_max = [1, 3, 40, 100, 100]\n",
    "\n",
    "prior = sbi.utils.BoxUniform(low=prior_min, high=prior_max)"
   ]
  },
  {
   "cell_type": "code",
   "execution_count": null,
   "id": "99036645",
   "metadata": {},
   "outputs": [],
   "source": [
    "#Sample parameters and run simulator\n",
    "theta_sbi = []\n",
    "x_sbi = []\n",
    "t0 = time.time()\n",
    "for i in tqdm(range(3000)):\n",
    "    theta = prior.sample()\n",
    "    x = sbi_simulator(theta)\n",
    "    theta_sbi.append(theta)\n",
    "    x_sbi.append(x)\n",
    "#save results lest notebook crashes; change filename and path accordingly\n",
    "with open(\"/home/npatzlaff/Documents/Inhibition_defines/results/SmallNet_theta_current-date\", \"wb\") as handle:\n",
    "        pickle.dump(theta_sbi, handle)\n",
    "with open(\"/home/npatzlaff/Documents/Inhibition_defines/results/SmallNet_x_current-date\", \"wb\") as handle:\n",
    "        pickle.dump(x_sbi, handle)"
   ]
  },
  {
   "cell_type": "code",
   "execution_count": null,
   "id": "c79ef5eb",
   "metadata": {},
   "outputs": [],
   "source": [
    "#Here's some I prepared earlier\n",
    "with open(\"/home/npatzlaff/Documents/Inhibition_defines/results/SmallNet_theta_21-06-21\", \"rb\") as handle:\n",
    "        theta_sbi02 = pickle.load(handle)\n",
    "with open(\"/home/npatzlaff/Documents/Inhibition_defines/results/SmallNet_x_21-06-21\", \"rb\") as handle:\n",
    "    x_sbi02 = pickle.load(handle)"
   ]
  },
  {
   "cell_type": "code",
   "execution_count": null,
   "id": "c7b5382e",
   "metadata": {},
   "outputs": [],
   "source": [
    "#Calculate statistics of results\n",
    "x_stats = calc_stats(x_sbi02)\n",
    "#save results\n",
    "with open(\"/home/npatzlaff/Documents/Inhibition_defines/results/SmallNet_x-stats_current-date\", \"wb\") as handle:\n",
    "        pickle.dump(x_stats, handle)"
   ]
  },
  {
   "cell_type": "code",
   "execution_count": 9,
   "id": "493295b7",
   "metadata": {},
   "outputs": [
    {
     "ename": "NameError",
     "evalue": "name 'sbi_simulator' is not defined",
     "output_type": "error",
     "traceback": [
      "\u001b[0;31m---------------------------------------------------------------------------\u001b[0m",
      "\u001b[0;31mNameError\u001b[0m                                 Traceback (most recent call last)",
      "\u001b[0;32m<ipython-input-9-5b98448be251>\u001b[0m in \u001b[0;36m<module>\u001b[0;34m\u001b[0m\n\u001b[1;32m      4\u001b[0m \u001b[0;34m\u001b[0m\u001b[0m\n\u001b[1;32m      5\u001b[0m \u001b[0;31m#Note that calc_stats normally takes list of results; here: 1-element list\u001b[0m\u001b[0;34m\u001b[0m\u001b[0;34m\u001b[0m\u001b[0m\n\u001b[0;32m----> 6\u001b[0;31m \u001b[0mtrue_res\u001b[0m \u001b[0;34m=\u001b[0m \u001b[0;34m[\u001b[0m\u001b[0msbi_simulator\u001b[0m\u001b[0;34m(\u001b[0m\u001b[0mtrue_params\u001b[0m\u001b[0;34m)\u001b[0m\u001b[0;34m]\u001b[0m\u001b[0;34m\u001b[0m\u001b[0;34m\u001b[0m\u001b[0m\n\u001b[0m\u001b[1;32m      7\u001b[0m \u001b[0mobs\u001b[0m \u001b[0;34m=\u001b[0m \u001b[0mcalc_stats\u001b[0m\u001b[0;34m(\u001b[0m\u001b[0mtrue_res\u001b[0m\u001b[0;34m)\u001b[0m\u001b[0;34m[\u001b[0m\u001b[0;36m0\u001b[0m\u001b[0;34m]\u001b[0m\u001b[0;34m\u001b[0m\u001b[0;34m\u001b[0m\u001b[0m\n\u001b[1;32m      8\u001b[0m \u001b[0mprint\u001b[0m\u001b[0;34m(\u001b[0m\u001b[0mobs\u001b[0m\u001b[0;34m)\u001b[0m\u001b[0;34m\u001b[0m\u001b[0;34m\u001b[0m\u001b[0m\n",
      "\u001b[0;31mNameError\u001b[0m: name 'sbi_simulator' is not defined"
     ]
    }
   ],
   "source": [
    "#Example usage and raster plot\n",
    "\n",
    "true_params = np.array([0.2, 1, 19.5, 30, 30])\n",
    "\n",
    "#Note that calc_stats normally takes list of results; here: 1-element list\n",
    "true_res = [sbi_simulator(true_params)]\n",
    "obs = calc_stats(true_res)[0]\n",
    "print(obs)\n",
    "\n",
    "i_e = true_res[0][0]\n",
    "t_e = true_res[0][1]\n",
    "i_i = true_res[0][2]\n",
    "t_i = true_res[0][3]\n",
    "i_i_m  = i_i + int(N-true_params[0]*N)\n",
    "\n",
    "\n",
    "fig,axes = plt.subplots(figsize=(15, 7))\n",
    "fig.tight_layout() \n",
    "rcParams['axes.labelsize'] = 17\n",
    "rcParams['axes.titlesize'] = 17\n",
    "\n",
    "\n",
    "plot(t_e/ms, i_e, 'b*', ms=0.8)\n",
    "plot(t_i/ms, i_i_m, 'r*', ms=0.8 )\n",
    "plt.xlim([1e6, 2.5e6])"
   ]
  },
  {
   "cell_type": "code",
   "execution_count": null,
   "id": "937610dd",
   "metadata": {},
   "outputs": [],
   "source": [
    "sbi_simu"
   ]
  },
  {
   "cell_type": "code",
   "execution_count": 15,
   "id": "97238ab4",
   "metadata": {},
   "outputs": [
    {
     "ename": "ImportError",
     "evalue": "cannot import name 'sbi_simulator' from 'funcs.base' (/home/npatzlaff/Documents/rewiring-effects/funcs/base.py)",
     "output_type": "error",
     "traceback": [
      "\u001b[0;31m---------------------------------------------------------------------------\u001b[0m",
      "\u001b[0;31mImportError\u001b[0m                               Traceback (most recent call last)",
      "\u001b[0;32m<ipython-input-15-8e34de79509d>\u001b[0m in \u001b[0;36m<module>\u001b[0;34m\u001b[0m\n\u001b[0;32m----> 1\u001b[0;31m \u001b[0;32mfrom\u001b[0m \u001b[0mfuncs\u001b[0m\u001b[0;34m.\u001b[0m\u001b[0mbase\u001b[0m \u001b[0;32mimport\u001b[0m \u001b[0msbi_simulator\u001b[0m\u001b[0;34m\u001b[0m\u001b[0;34m\u001b[0m\u001b[0m\n\u001b[0m",
      "\u001b[0;31mImportError\u001b[0m: cannot import name 'sbi_simulator' from 'funcs.base' (/home/npatzlaff/Documents/rewiring-effects/funcs/base.py)"
     ]
    }
   ],
   "source": [
    "from funcs.base import sbi_simulator"
   ]
  }
 ],
 "metadata": {
  "kernelspec": {
   "display_name": "Python 3",
   "language": "python",
   "name": "python3"
  },
  "language_info": {
   "codemirror_mode": {
    "name": "ipython",
    "version": 3
   },
   "file_extension": ".py",
   "mimetype": "text/x-python",
   "name": "python",
   "nbconvert_exporter": "python",
   "pygments_lexer": "ipython3",
   "version": "3.9.7"
  }
 },
 "nbformat": 4,
 "nbformat_minor": 5
}
